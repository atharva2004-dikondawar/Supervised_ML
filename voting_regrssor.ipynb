{
 "cells": [
  {
   "cell_type": "code",
   "execution_count": 1,
   "id": "f7f4e35a-35fd-408c-af92-dc0c7fcc4848",
   "metadata": {},
   "outputs": [],
   "source": [
    "from sklearn.datasets import fetch_california_housing\n",
    "import numpy as np"
   ]
  },
  {
   "cell_type": "code",
   "execution_count": 2,
   "id": "50ed7bc4-9ea7-4bbc-a3c1-1c2421b7fbb4",
   "metadata": {},
   "outputs": [],
   "source": [
    "x,y = fetch_california_housing(return_X_y=True)"
   ]
  },
  {
   "cell_type": "code",
   "execution_count": 3,
   "id": "0a84bb45-cd3d-48f6-b76e-6ab18c1ed5fa",
   "metadata": {},
   "outputs": [
    {
     "data": {
      "text/plain": [
       "(20640, 8)"
      ]
     },
     "execution_count": 3,
     "metadata": {},
     "output_type": "execute_result"
    }
   ],
   "source": [
    "x.shape"
   ]
  },
  {
   "cell_type": "code",
   "execution_count": 4,
   "id": "47b7f3c4-8aaf-4c4c-9f4d-b1480886a65e",
   "metadata": {},
   "outputs": [
    {
     "data": {
      "text/plain": [
       "(20640,)"
      ]
     },
     "execution_count": 4,
     "metadata": {},
     "output_type": "execute_result"
    }
   ],
   "source": [
    "y.shape"
   ]
  },
  {
   "cell_type": "code",
   "execution_count": 8,
   "id": "72488755-487a-4351-a69e-6313a632ee6b",
   "metadata": {},
   "outputs": [],
   "source": [
    "x = x[:500,:]\n",
    "y = y[:500]"
   ]
  },
  {
   "cell_type": "code",
   "execution_count": 9,
   "id": "38670d65-8c83-4853-a739-1dc6d1f00701",
   "metadata": {},
   "outputs": [
    {
     "data": {
      "text/plain": [
       "((500, 8), (500,))"
      ]
     },
     "execution_count": 9,
     "metadata": {},
     "output_type": "execute_result"
    }
   ],
   "source": [
    "x.shape,y.shape"
   ]
  },
  {
   "cell_type": "code",
   "execution_count": 10,
   "id": "85beec7f-4958-4f8a-a4c8-480b78302654",
   "metadata": {},
   "outputs": [],
   "source": [
    "from sklearn.linear_model import LinearRegression\n",
    "from sklearn.tree import DecisionTreeRegressor\n",
    "from sklearn.svm import SVR\n",
    "from sklearn.model_selection import cross_val_score"
   ]
  },
  {
   "cell_type": "code",
   "execution_count": 11,
   "id": "80d9736b-23a0-46b0-bd65-05f049c51fc2",
   "metadata": {},
   "outputs": [],
   "source": [
    "lr = LinearRegression()\n",
    "dtr = DecisionTreeRegressor()\n",
    "svr = SVR()"
   ]
  },
  {
   "cell_type": "code",
   "execution_count": 12,
   "id": "f79e3018-32c1-4dae-9e69-2a4c9184c627",
   "metadata": {},
   "outputs": [],
   "source": [
    "estimators = [('lr_1',lr),('dtr_2',dtr),('svr_3',svr)]"
   ]
  },
  {
   "cell_type": "code",
   "execution_count": 24,
   "id": "85e5c826-1472-4bf2-a4c0-8da7717972d2",
   "metadata": {},
   "outputs": [
    {
     "name": "stdout",
     "output_type": "stream",
     "text": [
      "model is lr_1:  0.45\n",
      "model is dtr_2:  0.03\n",
      "model is svr_3:  -1.03\n"
     ]
    }
   ],
   "source": [
    "for estimator in estimators:\n",
    "    z = cross_val_score(estimator[1],x,y,scoring='r2',cv=3)\n",
    "    print(\"model is {}: \".format(estimator[0]),np.round(np.mean(z),2))"
   ]
  },
  {
   "cell_type": "code",
   "execution_count": 25,
   "id": "3e80a856-f6c8-47ff-9dcf-d0467e44730e",
   "metadata": {},
   "outputs": [],
   "source": [
    "from sklearn.ensemble import VotingRegressor"
   ]
  },
  {
   "cell_type": "code",
   "execution_count": 26,
   "id": "75ddf845-20af-4c8a-9be8-49ef83bfc81f",
   "metadata": {},
   "outputs": [
    {
     "name": "stdout",
     "output_type": "stream",
     "text": [
      "0.42\n"
     ]
    }
   ],
   "source": [
    "vr = VotingRegressor(estimators)\n",
    "scores = cross_val_score(vr,x,y,scoring='r2',cv=3)\n",
    "print(np.round(np.mean(scores),2))"
   ]
  },
  {
   "cell_type": "code",
   "execution_count": 28,
   "id": "ce381b4f-3a72-4aa6-975f-69c13c68cc12",
   "metadata": {},
   "outputs": [
    {
     "name": "stdout",
     "output_type": "stream",
     "text": [
      "For i=1,j=1,k=1 -1.54\n",
      "For i=1,j=1,k=2 -2.87\n",
      "For i=1,j=1,k=3 -4.04\n",
      "For i=1,j=2,k=1 -0.87\n",
      "For i=1,j=2,k=2 -2.08\n",
      "For i=1,j=2,k=3 -2.87\n",
      "For i=1,j=3,k=1 -0.62\n",
      "For i=1,j=3,k=2 -1.59\n",
      "For i=1,j=3,k=3 -2.3\n",
      "For i=2,j=1,k=1 -0.97\n",
      "For i=2,j=1,k=2 -2.1\n",
      "For i=2,j=1,k=3 -3.03\n",
      "For i=2,j=2,k=1 -0.7\n",
      "For i=2,j=2,k=2 -1.45\n",
      "For i=2,j=2,k=3 -2.18\n",
      "For i=2,j=3,k=1 -0.48\n",
      "For i=2,j=3,k=2 -1.15\n",
      "For i=2,j=3,k=3 -1.73\n",
      "For i=3,j=1,k=1 -0.79\n",
      "For i=3,j=1,k=2 -1.57\n",
      "For i=3,j=1,k=3 -2.32\n",
      "For i=3,j=2,k=1 -0.52\n",
      "For i=3,j=2,k=2 -1.17\n",
      "For i=3,j=2,k=3 -1.8\n",
      "For i=3,j=3,k=1 -0.48\n",
      "For i=3,j=3,k=2 -0.97\n",
      "For i=3,j=3,k=3 -1.46\n"
     ]
    }
   ],
   "source": [
    "for i in range(1,4):\n",
    "  for j in range(1,4):\n",
    "    for k in range(1,4):\n",
    "      vr = VotingRegressor(estimators,weights=[i,j,k])\n",
    "      scores = cross_val_score(vr,x,y,scoring='r2',cv=10)\n",
    "      print(\"For i={},j={},k={}\".format(i,j,k),np.round(np.mean(scores),2))"
   ]
  },
  {
   "cell_type": "code",
   "execution_count": 29,
   "id": "94af257c-e941-4141-8e11-1d745a9cc447",
   "metadata": {},
   "outputs": [],
   "source": [
    "# using same algo\n",
    "dt1 = DecisionTreeRegressor(max_depth=1)\n",
    "dt2 = DecisionTreeRegressor(max_depth=3)\n",
    "dt3 = DecisionTreeRegressor(max_depth=5)\n",
    "dt4 = DecisionTreeRegressor(max_depth=7)\n",
    "dt5 = DecisionTreeRegressor(max_depth=None)"
   ]
  },
  {
   "cell_type": "code",
   "execution_count": 30,
   "id": "55a1ce14-2283-45d5-905b-c0da4f8b9ac6",
   "metadata": {},
   "outputs": [],
   "source": [
    "estimators1 = [('dt1',dt1),('dt2',dt2),('dt3',dt3),('dt4',dt4),('dt5',dt5)]"
   ]
  },
  {
   "cell_type": "code",
   "execution_count": null,
   "id": "281e04d7-4784-4fd9-8e76-017c16d2d874",
   "metadata": {},
   "outputs": [],
   "source": []
  }
 ],
 "metadata": {
  "kernelspec": {
   "display_name": "Python 3 (ipykernel)",
   "language": "python",
   "name": "python3"
  },
  "language_info": {
   "codemirror_mode": {
    "name": "ipython",
    "version": 3
   },
   "file_extension": ".py",
   "mimetype": "text/x-python",
   "name": "python",
   "nbconvert_exporter": "python",
   "pygments_lexer": "ipython3",
   "version": "3.11.5"
  }
 },
 "nbformat": 4,
 "nbformat_minor": 5
}
